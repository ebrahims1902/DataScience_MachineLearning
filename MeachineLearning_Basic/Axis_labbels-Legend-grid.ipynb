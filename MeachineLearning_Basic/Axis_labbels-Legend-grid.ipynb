{
 "cells": [
  {
   "cell_type": "code",
   "execution_count": 3,
   "metadata": {},
   "outputs": [],
   "source": [
    "import matplotlib.pyplot as plt\n",
    "%matplotlib inline"
   ]
  },
  {
   "cell_type": "code",
   "execution_count": 4,
   "metadata": {},
   "outputs": [],
   "source": [
    "days = [1,2,3,4,5,6,7]\n",
    "max_t = [50,51,52,48,47,9,6]\n",
    "min_t = [43,42,40,44,33,35,37]\n",
    "avg_t = [45,48,48,46,40,42,41]\n"
   ]
  },
  {
   "cell_type": "code",
   "execution_count": 23,
   "metadata": {},
   "outputs": [
    {
     "data": {
      "text/plain": [
       "<matplotlib.legend.Legend at 0x7f910b7b1b10>"
      ]
     },
     "execution_count": 23,
     "metadata": {},
     "output_type": "execute_result"
    },
    {
     "data": {
      "image/png": "[encoded data removed]",
      "text/plain": [
       "<Figure size 432x288 with 1 Axes>"
      ]
     },
     "metadata": {
      "needs_background": "light"
     },
     "output_type": "display_data"
    }
   ],
   "source": [
    "# plt.xlabel(\"Days\")\n",
    "# plt.ylabel(\"Tempareture\")\n",
    "# plt.title(\"weather\")\n",
    "# plt.plot(days,max_t, label=\"Max\")\n",
    "# plt.plot(days,min_t, label=\"Min\")\n",
    "# plt.plot(days,avg_t, label=\"Avg\")\n",
    "# plt.legend(loc=\"best\", shadow=True,fontsize=\"small\")\n",
    "plt.xlabel(\"max_t\")\n",
    "plt.ylabel(\"min_t\")\n",
    "plt.title(\"weather\")\n",
    "plt.hist([max_t,min_t,avg_t],rwidth=0.95,,color=['green','orange','blue'],label=['temperature','windspeed','Average'])\n",
    "plt.legend(loc=\"best\", shadow=True,fontsize=\"small\")\n",
    "\n"
   ]
  },
  {
   "cell_type": "code",
   "execution_count": null,
   "metadata": {},
   "outputs": [],
   "source": []
  }
 ],
 "metadata": {
  "kernelspec": {
   "display_name": "Python 3",
   "language": "python",
   "name": "python3"
  },
  "language_info": {
   "codemirror_mode": {
    "name": "ipython",
    "version": 3
   },
   "file_extension": ".py",
   "mimetype": "text/x-python",
   "name": "python",
   "nbconvert_exporter": "python",
   "pygments_lexer": "ipython3",
   "version": "3.7.6"
  }
 },
 "nbformat": 4,
 "nbformat_minor": 4
}
