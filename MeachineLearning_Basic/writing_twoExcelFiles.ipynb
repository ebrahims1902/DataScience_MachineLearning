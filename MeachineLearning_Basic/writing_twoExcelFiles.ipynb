{
 "cells": [
  {
   "cell_type": "code",
   "execution_count": 54,
   "metadata": {},
   "outputs": [],
   "source": [
    "import pandas as pd\n",
    "# def converter_event(event):\n",
    "#     if event == \"none\":\n",
    "#         return \"Rain\"\n",
    "#     return event\n",
    "\n",
    "# def converter_place(place):\n",
    "#     if place == \"none\":\n",
    "#         return 'west chennai'\n",
    "#     return place\n",
    "\n",
    "# df = pd.read_excel(\"weather.xlsx\",\"Sheet1\", converters = {\n",
    "#     'event': converter_event,\n",
    "#     'place': converter_place\n",
    "# })\n",
    "# df\n",
    "df_paris = pd.DataFrame({\n",
    "    'day': ['1/1/2017','1/4/2017','1/5/2017','1/6/2017'],\n",
    "    'temperature': [32.0,28.0,32.0,34.0],\n",
    "    'windspeed': [6.0,9.0,7.0,4.0],\n",
    "    'event': ['Rain','sunny','snow','Rain']\n",
    "})\n",
    "\n"
   ]
  },
  {
   "cell_type": "code",
   "execution_count": 55,
   "metadata": {},
   "outputs": [],
   "source": [
    "with pd.ExcelWriter('weatherparis.xlsx') as writer:\n",
    "    df_paris.to_excel(writer, sheet_name=\"paris\")\n",
    "    \n"
   ]
  },
  {
   "cell_type": "code",
   "execution_count": null,
   "metadata": {},
   "outputs": [],
   "source": []
  },
  {
   "cell_type": "code",
   "execution_count": null,
   "metadata": {},
   "outputs": [],
   "source": []
  }
 ],
 "metadata": {
  "kernelspec": {
   "display_name": "Python 3",
   "language": "python",
   "name": "python3"
  },
  "language_info": {
   "codemirror_mode": {
    "name": "ipython",
    "version": 3
   },
   "file_extension": ".py",
   "mimetype": "text/x-python",
   "name": "python",
   "nbconvert_exporter": "python",
   "pygments_lexer": "ipython3",
   "version": "3.7.6"
  }
 },
 "nbformat": 4,
 "nbformat_minor": 4
}
